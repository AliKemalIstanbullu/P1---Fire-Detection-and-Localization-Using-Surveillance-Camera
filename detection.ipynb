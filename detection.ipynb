{
 "cells": [
  {
   "cell_type": "code",
   "execution_count": 1,
   "metadata": {},
   "outputs": [
    {
     "name": "stdout",
     "output_type": "stream",
     "text": [
      "Requirement already satisfied: torch in c:\\users\\akist\\appdata\\local\\packages\\pythonsoftwarefoundation.python.3.11_qbz5n2kfra8p0\\localcache\\local-packages\\python311\\site-packages (2.1.0)\n",
      "Requirement already satisfied: torchvision in c:\\users\\akist\\appdata\\local\\packages\\pythonsoftwarefoundation.python.3.11_qbz5n2kfra8p0\\localcache\\local-packages\\python311\\site-packages (0.16.0)\n",
      "Requirement already satisfied: opencv-python in c:\\users\\akist\\appdata\\local\\packages\\pythonsoftwarefoundation.python.3.11_qbz5n2kfra8p0\\localcache\\local-packages\\python311\\site-packages (4.8.1.78)\n",
      "Requirement already satisfied: matplotlib in c:\\users\\akist\\appdata\\local\\packages\\pythonsoftwarefoundation.python.3.11_qbz5n2kfra8p0\\localcache\\local-packages\\python311\\site-packages (3.8.1)\n",
      "Requirement already satisfied: filelock in c:\\users\\akist\\appdata\\local\\packages\\pythonsoftwarefoundation.python.3.11_qbz5n2kfra8p0\\localcache\\local-packages\\python311\\site-packages (from torch) (3.13.1)\n",
      "Requirement already satisfied: typing-extensions in c:\\users\\akist\\appdata\\local\\packages\\pythonsoftwarefoundation.python.3.11_qbz5n2kfra8p0\\localcache\\local-packages\\python311\\site-packages (from torch) (4.8.0)\n",
      "Requirement already satisfied: sympy in c:\\users\\akist\\appdata\\local\\packages\\pythonsoftwarefoundation.python.3.11_qbz5n2kfra8p0\\localcache\\local-packages\\python311\\site-packages (from torch) (1.12)\n",
      "Requirement already satisfied: networkx in c:\\users\\akist\\appdata\\local\\packages\\pythonsoftwarefoundation.python.3.11_qbz5n2kfra8p0\\localcache\\local-packages\\python311\\site-packages (from torch) (3.2.1)\n",
      "Requirement already satisfied: jinja2 in c:\\users\\akist\\appdata\\local\\packages\\pythonsoftwarefoundation.python.3.11_qbz5n2kfra8p0\\localcache\\local-packages\\python311\\site-packages (from torch) (3.1.2)\n",
      "Requirement already satisfied: fsspec in c:\\users\\akist\\appdata\\local\\packages\\pythonsoftwarefoundation.python.3.11_qbz5n2kfra8p0\\localcache\\local-packages\\python311\\site-packages (from torch) (2023.10.0)\n",
      "Requirement already satisfied: numpy in c:\\users\\akist\\appdata\\local\\packages\\pythonsoftwarefoundation.python.3.11_qbz5n2kfra8p0\\localcache\\local-packages\\python311\\site-packages (from torchvision) (1.26.1)\n",
      "Requirement already satisfied: requests in c:\\users\\akist\\appdata\\local\\packages\\pythonsoftwarefoundation.python.3.11_qbz5n2kfra8p0\\localcache\\local-packages\\python311\\site-packages (from torchvision) (2.31.0)\n",
      "Requirement already satisfied: pillow!=8.3.*,>=5.3.0 in c:\\users\\akist\\appdata\\local\\packages\\pythonsoftwarefoundation.python.3.11_qbz5n2kfra8p0\\localcache\\local-packages\\python311\\site-packages (from torchvision) (10.1.0)\n",
      "Requirement already satisfied: contourpy>=1.0.1 in c:\\users\\akist\\appdata\\local\\packages\\pythonsoftwarefoundation.python.3.11_qbz5n2kfra8p0\\localcache\\local-packages\\python311\\site-packages (from matplotlib) (1.2.0)\n",
      "Requirement already satisfied: cycler>=0.10 in c:\\users\\akist\\appdata\\local\\packages\\pythonsoftwarefoundation.python.3.11_qbz5n2kfra8p0\\localcache\\local-packages\\python311\\site-packages (from matplotlib) (0.12.1)\n",
      "Requirement already satisfied: fonttools>=4.22.0 in c:\\users\\akist\\appdata\\local\\packages\\pythonsoftwarefoundation.python.3.11_qbz5n2kfra8p0\\localcache\\local-packages\\python311\\site-packages (from matplotlib) (4.44.0)\n",
      "Requirement already satisfied: kiwisolver>=1.3.1 in c:\\users\\akist\\appdata\\local\\packages\\pythonsoftwarefoundation.python.3.11_qbz5n2kfra8p0\\localcache\\local-packages\\python311\\site-packages (from matplotlib) (1.4.5)\n",
      "Requirement already satisfied: packaging>=20.0 in c:\\users\\akist\\appdata\\local\\packages\\pythonsoftwarefoundation.python.3.11_qbz5n2kfra8p0\\localcache\\local-packages\\python311\\site-packages (from matplotlib) (23.2)\n",
      "Requirement already satisfied: pyparsing>=2.3.1 in c:\\users\\akist\\appdata\\local\\packages\\pythonsoftwarefoundation.python.3.11_qbz5n2kfra8p0\\localcache\\local-packages\\python311\\site-packages (from matplotlib) (3.1.1)\n",
      "Requirement already satisfied: python-dateutil>=2.7 in c:\\users\\akist\\appdata\\local\\packages\\pythonsoftwarefoundation.python.3.11_qbz5n2kfra8p0\\localcache\\local-packages\\python311\\site-packages (from matplotlib) (2.8.2)\n",
      "Requirement already satisfied: six>=1.5 in c:\\users\\akist\\appdata\\local\\packages\\pythonsoftwarefoundation.python.3.11_qbz5n2kfra8p0\\localcache\\local-packages\\python311\\site-packages (from python-dateutil>=2.7->matplotlib) (1.16.0)\n",
      "Requirement already satisfied: MarkupSafe>=2.0 in c:\\users\\akist\\appdata\\local\\packages\\pythonsoftwarefoundation.python.3.11_qbz5n2kfra8p0\\localcache\\local-packages\\python311\\site-packages (from jinja2->torch) (2.1.3)\n",
      "Requirement already satisfied: charset-normalizer<4,>=2 in c:\\users\\akist\\appdata\\local\\packages\\pythonsoftwarefoundation.python.3.11_qbz5n2kfra8p0\\localcache\\local-packages\\python311\\site-packages (from requests->torchvision) (3.3.0)\n",
      "Requirement already satisfied: idna<4,>=2.5 in c:\\users\\akist\\appdata\\local\\packages\\pythonsoftwarefoundation.python.3.11_qbz5n2kfra8p0\\localcache\\local-packages\\python311\\site-packages (from requests->torchvision) (3.4)\n",
      "Requirement already satisfied: urllib3<3,>=1.21.1 in c:\\users\\akist\\appdata\\local\\packages\\pythonsoftwarefoundation.python.3.11_qbz5n2kfra8p0\\localcache\\local-packages\\python311\\site-packages (from requests->torchvision) (2.0.7)\n",
      "Requirement already satisfied: certifi>=2017.4.17 in c:\\users\\akist\\appdata\\local\\packages\\pythonsoftwarefoundation.python.3.11_qbz5n2kfra8p0\\localcache\\local-packages\\python311\\site-packages (from requests->torchvision) (2023.7.22)\n",
      "Requirement already satisfied: mpmath>=0.19 in c:\\users\\akist\\appdata\\local\\packages\\pythonsoftwarefoundation.python.3.11_qbz5n2kfra8p0\\localcache\\local-packages\\python311\\site-packages (from sympy->torch) (1.3.0)\n",
      "Note: you may need to restart the kernel to use updated packages.\n"
     ]
    }
   ],
   "source": [
    "pip install torch torchvision opencv-python matplotlib\n"
   ]
  },
  {
   "cell_type": "code",
   "execution_count": 6,
   "metadata": {},
   "outputs": [
    {
     "name": "stderr",
     "output_type": "stream",
     "text": [
      "Using cache found in C:\\Users\\akist/.cache\\torch\\hub\\ultralytics_yolov5_master\n",
      "YOLOv5  2023-11-6 Python-3.11.6 torch-2.1.0+cpu CPU\n",
      "\n",
      "Fusing layers... \n",
      "Model summary: 157 layers, 7012822 parameters, 0 gradients, 15.8 GFLOPs\n",
      "Adding AutoShape... \n"
     ]
    },
    {
     "name": "stdout",
     "output_type": "stream",
     "text": [
      "Detection results for test_image\\image_name.jpg:\n",
      "         xmin        ymin        xmax        ymax  confidence  class  name\n",
      "0  451.609100  216.604996  485.732178  248.129089    0.596639      0  fire\n",
      "1  498.966797  173.713440  555.759644  222.313538    0.577476      0  fire\n",
      "2    0.000000   44.586536  149.155457  183.687485    0.511461      0  fire\n",
      "3  110.689514   98.313087  205.380569  200.038025    0.414806      0  fire\n"
     ]
    }
   ],
   "source": [
    "import torch\n",
    "import cv2\n",
    "import numpy as np\n",
    "from matplotlib import pyplot as plt\n",
    "import os\n",
    "\n",
    "# Load the model\n",
    "model = torch.hub.load('ultralytics/yolov5', 'custom', path='best.pt')  # Load custom model\n",
    "\n",
    "# Directory containing images\n",
    "image_directory = 'test_image'\n",
    "image_paths = [os.path.join(image_directory, image_name) for image_name in os.listdir(image_directory)]\n",
    "\n",
    "# Function to perform object detection\n",
    "def detect_and_show(image_path):\n",
    "    # Load image\n",
    "    image = cv2.imread(image_path)\n",
    "\n",
    "    # Perform inference\n",
    "    results = model(image)\n",
    "\n",
    "    # Results contain a 'pandas' dataframe with the prediction results\n",
    "    print(f\"Detection results for {image_path}:\")\n",
    "    print(results.pandas().xyxy[0])\n",
    "\n",
    "    # Rendering results (this assumes 'matplotlib' is installed)\n",
    "    results.render()  # updates 'image' in-place with results\n",
    "    plt.imshow(np.squeeze(results.render()))  # display the image\n",
    "    plt.show()\n",
    "\n",
    "# Loop through images in the directory and perform detection\n",
    "for path in image_paths:\n",
    "    detect_and_show(path)\n"
   ]
  },
  {
   "cell_type": "code",
   "execution_count": 7,
   "metadata": {},
   "outputs": [],
   "source": [
    "plt.savefig('result_image.jpg')  # Save the result image with detections\n"
   ]
  },
  {
   "cell_type": "code",
   "execution_count": 9,
   "metadata": {},
   "outputs": [
    {
     "name": "stderr",
     "output_type": "stream",
     "text": [
      "Using cache found in C:\\Users\\akist/.cache\\torch\\hub\\ultralytics_yolov5_master\n",
      "YOLOv5  2023-11-6 Python-3.11.6 torch-2.1.0+cpu CPU\n",
      "\n",
      "Fusing layers... \n",
      "Model summary: 157 layers, 7012822 parameters, 0 gradients, 15.8 GFLOPs\n",
      "Adding AutoShape... \n"
     ]
    },
    {
     "name": "stdout",
     "output_type": "stream",
     "text": [
      "Detection results for test_image\\image_name.jpg:\n",
      "         xmin        ymin       xmax        ymax  confidence  class  name\n",
      "0  193.175293  158.207565  214.32135  177.745071    0.341872      0  fire\n",
      "Object detection completed. Results are saved in the 'result_image' directory and 'output.html'.\n"
     ]
    }
   ],
   "source": [
    "import torch\n",
    "import cv2\n",
    "import os\n",
    "\n",
    "# Ensure the output directory exists\n",
    "output_directory = 'result_image'\n",
    "os.makedirs(output_directory, exist_ok=True)\n",
    "\n",
    "# Load the model\n",
    "model = torch.hub.load('ultralytics/yolov5', 'custom', path='best.pt')  # Load custom model\n",
    "\n",
    "# Directory containing images\n",
    "image_directory = 'test_image'\n",
    "image_paths = [os.path.join(image_directory, image_name) for image_name in os.listdir(image_directory)]\n",
    "\n",
    "# HTML header\n",
    "html_output = \"\"\"\n",
    "<!DOCTYPE html>\n",
    "<html lang=\"en\">\n",
    "<head>\n",
    "    <meta charset=\"UTF-8\">\n",
    "    <title>Object Detection Results</title>\n",
    "</head>\n",
    "<body>\n",
    "    <h1>Object Detection Results</h1>\n",
    "\"\"\"\n",
    "\n",
    "# Function to perform object detection and save results\n",
    "def detect_and_save(image_path):\n",
    "    # Load image\n",
    "    image = cv2.imread(image_path)\n",
    "\n",
    "    # Perform inference\n",
    "    results = model(image)\n",
    "\n",
    "    # Results contain a 'pandas' dataframe with the prediction results\n",
    "    print(f\"Detection results for {image_path}:\")\n",
    "    print(results.pandas().xyxy[0])\n",
    "\n",
    "    # Save result image\n",
    "    output_path = os.path.join(output_directory, os.path.basename(image_path))\n",
    "    result_image = np.squeeze(results.render())\n",
    "    cv2.imwrite(output_path, result_image)\n",
    "\n",
    "    # Add image to HTML\n",
    "    global html_output\n",
    "    html_output += f'<img src=\"{output_path}\" alt=\"{os.path.basename(image_path)}\" style=\"width:100%;\">\\n'\n",
    "\n",
    "# Loop through images in the directory and perform detection\n",
    "for path in image_paths:\n",
    "    detect_and_save(path)\n",
    "\n",
    "# Close HTML\n",
    "html_output += \"\"\"\n",
    "</body>\n",
    "</html>\n",
    "\"\"\"\n",
    "\n",
    "# Save HTML file\n",
    "with open('output.html', 'w') as file:\n",
    "    file.write(html_output)\n",
    "\n",
    "print(\"Object detection completed. Results are saved in the 'result_image' directory and 'output.html'.\")\n"
   ]
  },
  {
   "cell_type": "code",
   "execution_count": 1,
   "metadata": {},
   "outputs": [
    {
     "name": "stderr",
     "output_type": "stream",
     "text": [
      "Using cache found in C:\\Users\\akist/.cache\\torch\\hub\\ultralytics_yolov5_master\n",
      "YOLOv5  2023-11-6 Python-3.11.6 torch-2.1.0+cpu CPU\n",
      "\n",
      "Fusing layers... \n",
      "Model summary: 157 layers, 7012822 parameters, 0 gradients, 15.8 GFLOPs\n",
      "Adding AutoShape... \n"
     ]
    },
    {
     "name": "stdout",
     "output_type": "stream",
     "text": [
      "Object detection completed. Results are saved in the 'result_images' directory and 'detection_results.txt'.\n"
     ]
    }
   ],
   "source": [
    "import torch\n",
    "import cv2\n",
    "import numpy as np\n",
    "import os\n",
    "\n",
    "# Ensure the output directories exist\n",
    "image_output_directory = 'result_images'\n",
    "os.makedirs(image_output_directory, exist_ok=True)\n",
    "\n",
    "# Load the model\n",
    "model = torch.hub.load('ultralytics/yolov5', 'custom', path='best.pt')  # Load custom model\n",
    "\n",
    "# Directory containing images\n",
    "image_directory = 'test_images'\n",
    "image_paths = [os.path.join(image_directory, test_image) for test_image in os.listdir(image_directory) if test_image.endswith('.jpg')]\n",
    "\n",
    "# Output text file\n",
    "detection_results_file = 'detection_results.txt'\n",
    "with open(detection_results_file, 'w') as file:\n",
    "    file.write(\"Image Name, Object Detected, Number of Objects\\n\")\n",
    "\n",
    "# Function to perform object detection and save results\n",
    "def detect_and_save(image_path):\n",
    "    # Load image\n",
    "    image = cv2.imread(image_path)\n",
    "\n",
    "    # Perform inference\n",
    "    results = model(image)\n",
    "\n",
    "    # Determine the number of objects detected\n",
    "    n_objects = len(results.xyxy[0])  # Number of objects detected\n",
    "\n",
    "    # Write detection info to text file\n",
    "    with open(detection_results_file, 'a') as file:\n",
    "        file.write(f\"{os.path.basename(image_path)}, {'Yes' if n_objects > 0 else 'No'}, {n_objects}\\n\")\n",
    "\n",
    "    # Save result image\n",
    "    output_path = os.path.join(image_output_directory, os.path.basename(image_path))\n",
    "    result_image = np.squeeze(results.render())\n",
    "    cv2.imwrite(output_path, result_image)\n",
    "\n",
    "# Loop through images in the directory and perform detection\n",
    "for path in image_paths:\n",
    "    detect_and_save(path)\n",
    "\n",
    "print(f\"Object detection completed. Results are saved in the '{image_output_directory}' directory and '{detection_results_file}'.\")\n"
   ]
  }
 ],
 "metadata": {
  "kernelspec": {
   "display_name": "Python 3",
   "language": "python",
   "name": "python3"
  },
  "language_info": {
   "codemirror_mode": {
    "name": "ipython",
    "version": 3
   },
   "file_extension": ".py",
   "mimetype": "text/x-python",
   "name": "python",
   "nbconvert_exporter": "python",
   "pygments_lexer": "ipython3",
   "version": "3.11.6"
  }
 },
 "nbformat": 4,
 "nbformat_minor": 2
}
